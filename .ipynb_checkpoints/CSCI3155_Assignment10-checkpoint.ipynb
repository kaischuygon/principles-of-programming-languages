{
 "cells": [
  {
   "cell_type": "code",
   "execution_count": null,
   "metadata": {},
   "outputs": [],
   "source": []
  },
  {
   "cell_type": "markdown",
   "metadata": {
    "deletable": false,
    "editable": false,
    "nbgrader": {
     "cell_type": "markdown",
     "checksum": "2851b9506d32719a3b36b234fc22fa30",
     "grade": false,
     "grade_id": "cell-bf0337cd13af44d4",
     "locked": true,
     "schema_version": 3,
     "solution": false,
     "task": false
    }
   },
   "source": [
    "# CSCI 3155: Assignment 10 (40 points)\n",
    "\n",
    "Lazy functional programming, streams, iterators and comprehensions."
   ]
  },
  {
   "cell_type": "markdown",
   "metadata": {},
   "source": [
    "__Name__: Kai Schuyler Gonzalez"
   ]
  },
  {
   "cell_type": "code",
   "execution_count": 1,
   "metadata": {
    "deletable": false,
    "editable": false,
    "nbgrader": {
     "cell_type": "code",
     "checksum": "68dd9e114b98009d608810bb850dc401",
     "grade": false,
     "grade_id": "cell-98f1b106e0e2a41c",
     "locked": true,
     "schema_version": 3,
     "solution": false,
     "task": false
    }
   },
   "outputs": [
    {
     "data": {
      "text/plain": [
       "defined \u001b[32mfunction\u001b[39m \u001b[36mpassed\u001b[39m"
      ]
     },
     "execution_count": 1,
     "metadata": {},
     "output_type": "execute_result"
    }
   ],
   "source": [
    "// TEST HELPER\n",
    "def passed(points: Int) {\n",
    "    require(points >=0)\n",
    "    if (points == 1) print(s\"\\n*** Tests Passed (1 point) ***\\n\")\n",
    "    else print(s\"\\n*** Tests Passed ($points points) ***\\n\")\n",
    "}"
   ]
  },
  {
   "cell_type": "markdown",
   "metadata": {
    "deletable": false,
    "editable": false,
    "nbgrader": {
     "cell_type": "markdown",
     "checksum": "d298b8c6d1f3739632567a5a4d3e81cc",
     "grade": false,
     "grade_id": "cell-9092f0d52e8ecb13",
     "locked": true,
     "schema_version": 3,
     "solution": false,
     "task": false
    }
   },
   "source": [
    "### Problem 1A (10 points)\n",
    "\n",
    "Create an infinite stream that generates all natural numbers starting from 0. Your stream must be a value called `allNatural` of type `Stream[Int]`"
   ]
  },
  {
   "cell_type": "code",
   "execution_count": 1,
   "metadata": {
    "deletable": false,
    "nbgrader": {
     "cell_type": "code",
     "checksum": "f5f9242f503914aa223eebec3e59aa3f",
     "grade": false,
     "grade_id": "cell-1e675bf8b8f79901",
     "locked": false,
     "schema_version": 3,
     "solution": true,
     "task": false
    }
   },
   "outputs": [
    {
     "name": "stderr",
     "output_type": "stream",
     "text": [
      "cmd1.sc:3: not found: value inifiniteNumberStream\n",
      "    def allNatural: Stream[Int] = Stream.cons(0, inifiniteNumberStream(number + 1))\n",
      "                                                 ^cmd1.sc:3: not found: value number\n",
      "    def allNatural: Stream[Int] = Stream.cons(0, inifiniteNumberStream(number + 1))\n",
      "                                                                       ^cmd1.sc:4: type mismatch;\n",
      " found   : Unit\n",
      " required: Stream[Int]\n",
      "}\n",
      "^Compilation Failed"
     ]
    },
    {
     "ename": "",
     "evalue": "",
     "output_type": "error",
     "traceback": [
      "Compilation Failed"
     ]
    }
   ],
   "source": [
    "val allNatural:Stream[Int] = {\n",
    "    // YOUR CODE HERE\n",
    "    def allNatural(number, Int): Stream[Int] = Stream.cons(number, inifiniteNumberStream(number + 1))\n",
    "}"
   ]
  },
  {
   "cell_type": "code",
   "execution_count": null,
   "metadata": {
    "deletable": false,
    "editable": false,
    "nbgrader": {
     "cell_type": "code",
     "checksum": "113ddfb759832d0bc03e0f63a85987e3",
     "grade": true,
     "grade_id": "cell-1695eb166b78cb53",
     "locked": true,
     "points": 10,
     "schema_version": 3,
     "solution": false,
     "task": false
    }
   },
   "outputs": [],
   "source": [
    "//BEGIN TEST\n",
    "def testStream(n: Int): Boolean = {\n",
    "    (allNatural.take(n).toList == List.range(0, n))\n",
    "}\n",
    "\n",
    "assert(testStream(5), \"Testing first 5 elements of the stream\")\n",
    "assert(testStream(0), \"Testing first 0 elements of the stream\")\n",
    "assert(testStream(25), \"Testing first 25 elements of the stream\")\n",
    "assert(testStream(55), \"Testing first 55 elements of the stream\")\n",
    "assert(testStream(1303), \"Testing first 1303 elements of the stream\")\n",
    "passed(10)\n",
    "//END TEST"
   ]
  },
  {
   "cell_type": "markdown",
   "metadata": {
    "deletable": false,
    "editable": false,
    "nbgrader": {
     "cell_type": "markdown",
     "checksum": "027ef3f1859979b82fa7e4ec49fd638f",
     "grade": false,
     "grade_id": "cell-ca20de9b45c7efa4",
     "locked": true,
     "schema_version": 3,
     "solution": false,
     "task": false
    }
   },
   "source": [
    "## Problem 1B (10 points)\n",
    "\n",
    "Write an infinite stream that will generate all natural numbers `n` that satisfy all of  the following condition: \n",
    "  - n = 1 modulo 2\n",
    "  - n = 2 modulo 3\n",
    "  - n = 3 modulo 4\n",
    "  - n = 4 modulo 5\n",
    "  - n = 5 modulo 6\n",
    "  - n = 6 modulo 7\n",
    "  - n = 7 modulo 8\n",
    "  \n",
    " Your solution should use the stream of all natural numbers created in the previous problem and a suitable application of `filter` on streams."
   ]
  },
  {
   "cell_type": "code",
   "execution_count": null,
   "metadata": {
    "deletable": false,
    "nbgrader": {
     "cell_type": "code",
     "checksum": "ebb17978a31e2b77e4dc551b3148ed79",
     "grade": false,
     "grade_id": "cell-cd1ccc239400263d",
     "locked": false,
     "schema_version": 3,
     "solution": true,
     "task": false
    }
   },
   "outputs": [],
   "source": [
    "val specialNatNumberStream: Stream[Int] = {\n",
    "    ??? // YOUR CODE HERE\n",
    "}"
   ]
  },
  {
   "cell_type": "code",
   "execution_count": null,
   "metadata": {
    "deletable": false,
    "editable": false,
    "nbgrader": {
     "cell_type": "code",
     "checksum": "217078c11ef6a9c050338abe4527446b",
     "grade": true,
     "grade_id": "cell-9de31fb58afab291",
     "locked": true,
     "points": 10,
     "schema_version": 3,
     "solution": false,
     "task": false
    }
   },
   "outputs": [],
   "source": [
    "//BEGIN TEST\n",
    "def cond(j: Int): Boolean = {\n",
    "        j % 2 == 1 && j % 3 == 2 && j % 4 == 3 && \n",
    "        j % 5 == 4 && j % 6 == 5 && j % 7 == 6 && \n",
    "        j % 8 == 7\n",
    "    }\n",
    "\n",
    "def testStream(n: Int): Boolean = {\n",
    "    specialNatNumberStream.take(n).forall( cond)\n",
    "}\n",
    "\n",
    "assert(specialNatNumberStream.take(4).toList == List(839,1679,2519,3359))\n",
    "assert(testStream(200), \"First 200 elements test failed\")\n",
    "passed(10)\n",
    "//END TEST"
   ]
  },
  {
   "cell_type": "markdown",
   "metadata": {
    "deletable": false,
    "editable": false,
    "nbgrader": {
     "cell_type": "markdown",
     "checksum": "697d1161754b38f9365fa74cc7867f30",
     "grade": false,
     "grade_id": "cell-bd439c1e0bf77b30",
     "locked": true,
     "schema_version": 3,
     "solution": false,
     "task": false
    }
   },
   "source": [
    "## Problem 2: Binary Counter (20 points)\n",
    "\n",
    "Write an iterator that simulates an n-bit binary counter. The n-bit counter is a list of n Booleans `List[Boolean]` wherein `List(False, ..., False)` stands for the initial value of the counter which is all 0s and `List(True, ..., True)` stands for the final value of the counter which is the list of all trues.\n",
    "\n",
    "For instance, the three bit iterator must produce the following sequence of lists:\n",
    "~~~\n",
    "List(false, false, false)\n",
    "List(false, false, true)\n",
    "List(false, true, false)\n",
    "List(false, true, true)\n",
    "List(true, false, false)\n",
    "List(true, false, true)\n",
    "List(true, true, false)\n",
    "List(true, true, true)\n",
    "~~~\n",
    "\n",
    "After the list of all trues, it should not produce any more lists.\n",
    "\n",
    "Complete the implementation of the iterator object below."
   ]
  },
  {
   "cell_type": "code",
   "execution_count": null,
   "metadata": {
    "deletable": false,
    "nbgrader": {
     "cell_type": "code",
     "checksum": "e051d36ca0dac1c235f5288e4d9393fa",
     "grade": false,
     "grade_id": "cell-cd534e82e4219f8e",
     "locked": false,
     "schema_version": 3,
     "solution": true,
     "task": false
    }
   },
   "outputs": [],
   "source": [
    "class Bitcounter(n: Int) extends Iterator[List[Boolean]] {\n",
    "    assert(n > 0)\n",
    "    var curValue: List[Boolean] = { // TODO: Initialize to a list of n booleans that are all false\n",
    "        ??? // YOUR CODE HERE\n",
    "    }\n",
    "    \n",
    "    var iteratorDone: Boolean = false\n",
    "    \n",
    "    def hasNext:Boolean = { \n",
    "        !iteratorDone\n",
    "    }\n",
    "    \n",
    "    def next:List[Boolean] = {\n",
    "        //TODO: Simulate incrementing the current bit vector by 1\n",
    "        //Remember to properly \"increment\" curValue and set \n",
    "        //    the iteratorDone flag.\n",
    "        ??? // YOUR CODE HERE\n",
    "    }\n",
    "}"
   ]
  },
  {
   "cell_type": "code",
   "execution_count": null,
   "metadata": {
    "deletable": false,
    "editable": false,
    "nbgrader": {
     "cell_type": "code",
     "checksum": "f8978030135bf083ba99ed21bae27323",
     "grade": true,
     "grade_id": "cell-774cfeb8519915f6",
     "locked": true,
     "points": 20,
     "schema_version": 3,
     "solution": false,
     "task": false
    }
   },
   "outputs": [],
   "source": [
    "//BEGIN TEST\n",
    "\n",
    "val bc = new Bitcounter(3)\n",
    "assert(bc.length == 8, \"Three bit counter should have 8 elements\")\n",
    "\n",
    "val bc2 = new Bitcounter(4)\n",
    "assert(bc2.next == List(false, false, false, false))\n",
    "assert(bc2.next == List(false, false, false, true))\n",
    "assert(bc2.length == 14, \"There must be 13 remaining elements after we iterated on first three\")\n",
    "\n",
    "val bc3 = new Bitcounter(5)\n",
    "val discard = bc3.take(5)\n",
    "discard.foreach(println(_))\n",
    "assert(bc3.next == List(false, false,  true, false, true))\n",
    "//println(bc3.length)\n",
    "assert(bc3.length == 26, \"remaining must be 26\")\n",
    "passed(20)\n",
    "//END TEST"
   ]
  }
 ],
 "metadata": {
  "kernelspec": {
   "display_name": "Scala",
   "language": "scala",
   "name": "scala"
  },
  "language_info": {
   "codemirror_mode": "text/x-scala",
   "file_extension": ".sc",
   "mimetype": "text/x-scala",
   "name": "scala",
   "nbconvert_exporter": "script",
   "version": "2.13.3"
  }
 },
 "nbformat": 4,
 "nbformat_minor": 4
}
