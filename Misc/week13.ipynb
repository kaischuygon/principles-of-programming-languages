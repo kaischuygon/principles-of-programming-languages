{
 "cells": [
  {
   "cell_type": "markdown",
   "metadata": {},
   "source": [
    "## More on OOP in Scala\n",
    "1. Object type hierarchy\n",
    "2. Immutable (persistent) data structures"
   ]
  },
  {
   "cell_type": "markdown",
   "metadata": {},
   "source": [
    "### Object Type Hierarchy\n",
    "- No primitive types in Scala - all objects inherit from Any\n",
    "- Value types inherit from AnyVal, Reference types inherit from AnyRef\n",
    "- Null inherits from all Reference types (null reference)\n",
    "- Nothing inherits from all types (it is the \"bottom\" type) and cannot be instantiated\n",
    "\n",
    "From https://www.artima.com/pins1ed/scalas-hierarchy.html\n",
    "\n",
    "\n",
    "<img src=\"https://www.scala-lang.org/files/archive/spec/2.12/public/images/classhierarchy.png\" width=\"800\">\n"
   ]
  },
  {
   "cell_type": "code",
   "execution_count": 1,
   "metadata": {},
   "outputs": [
    {
     "data": {
      "text/plain": [
       "\u001b[36mres0\u001b[39m: \u001b[32mList\u001b[39m[\u001b[32mInt\u001b[39m] = \u001b[33mList\u001b[39m(\u001b[32m1\u001b[39m, \u001b[32m2\u001b[39m, \u001b[32m3\u001b[39m)"
      ]
     },
     "execution_count": 1,
     "metadata": {},
     "output_type": "execute_result"
    }
   ],
   "source": [
    "List(1, 2, 3) // what type of List?"
   ]
  },
  {
   "cell_type": "code",
   "execution_count": 2,
   "metadata": {},
   "outputs": [
    {
     "data": {
      "text/plain": [
       "\u001b[36mres1\u001b[39m: \u001b[32mList\u001b[39m[\u001b[32mAny\u001b[39m] = \u001b[33mList\u001b[39m(\u001b[32m1\u001b[39m, \u001b[32m2\u001b[39m, \u001b[32m\"three\"\u001b[39m)"
      ]
     },
     "execution_count": 2,
     "metadata": {},
     "output_type": "execute_result"
    }
   ],
   "source": [
    "List(1, 2, \"three\")"
   ]
  },
  {
   "cell_type": "code",
   "execution_count": 3,
   "metadata": {},
   "outputs": [
    {
     "data": {
      "text/plain": [
       "\u001b[36mres2\u001b[39m: \u001b[32mList\u001b[39m[\u001b[32mChar\u001b[39m] = \u001b[33mList\u001b[39m(\u001b[32m'a'\u001b[39m, \u001b[32m'b'\u001b[39m)"
      ]
     },
     "execution_count": 3,
     "metadata": {},
     "output_type": "execute_result"
    }
   ],
   "source": [
    "List('a', 'b')"
   ]
  },
  {
   "cell_type": "code",
   "execution_count": 4,
   "metadata": {},
   "outputs": [
    {
     "data": {
      "text/plain": [
       "\u001b[36mres3\u001b[39m: \u001b[32mList\u001b[39m[\u001b[32mAny\u001b[39m] = \u001b[33mList\u001b[39m(\u001b[32m'a'\u001b[39m, \u001b[32m\"bee\"\u001b[39m)"
      ]
     },
     "execution_count": 4,
     "metadata": {},
     "output_type": "execute_result"
    }
   ],
   "source": [
    "List('a', \"bee\")"
   ]
  },
  {
   "cell_type": "code",
   "execution_count": 5,
   "metadata": {},
   "outputs": [
    {
     "data": {
      "text/plain": [
       "\u001b[36mx\u001b[39m: \u001b[32mList\u001b[39m[\u001b[32mAnyVal\u001b[39m] = \u001b[33mList\u001b[39m(\u001b[32m1\u001b[39m, \u001b[32m2\u001b[39m, \u001b[32m97\u001b[39m)"
      ]
     },
     "execution_count": 5,
     "metadata": {},
     "output_type": "execute_result"
    }
   ],
   "source": [
    "val x: List[AnyVal] = List(1, 2, 'a')"
   ]
  },
  {
   "cell_type": "code",
   "execution_count": 5,
   "metadata": {},
   "outputs": [
    {
     "name": "stderr",
     "output_type": "stream",
     "text": [
      "cmd5.sc:1: type mismatch;\n",
      " found   : String(\"bee\")\n",
      " required: AnyVal\n",
      "Note that implicit conversions are not applicable because they are ambiguous:\n",
      " both method augmentString in object Predef of type (x: String): scala.collection.StringOps\n",
      " and method DisplayDataSyntax in object DisplayData of type (s: String): almond.interpreter.api.DisplayData.DisplayDataSyntax\n",
      " are possible conversion functions from String(\"bee\") to AnyVal\n",
      "val x: List[AnyVal] = List(1, 2, \"bee\") // String does not inherit from AnyVal\n",
      "                                 ^Compilation Failed"
     ]
    },
    {
     "ename": "",
     "evalue": "",
     "output_type": "error",
     "traceback": [
      "Compilation Failed"
     ]
    }
   ],
   "source": [
    "val x: List[AnyVal] = List(1, 2, \"bee\") // String does not inherit from AnyVal"
   ]
  },
  {
   "cell_type": "code",
   "execution_count": 6,
   "metadata": {},
   "outputs": [
    {
     "data": {
      "text/plain": [
       "defined \u001b[32mfunction\u001b[39m \u001b[36mnumberOrUnit\u001b[39m"
      ]
     },
     "execution_count": 6,
     "metadata": {},
     "output_type": "execute_result"
    }
   ],
   "source": [
    "def numberOrUnit(x: Int): Any = {\n",
    "    if (x < 0) {\n",
    "        x // Int\n",
    "    } else {\n",
    "        () // Unit\n",
    "    }\n",
    "}"
   ]
  },
  {
   "cell_type": "code",
   "execution_count": 7,
   "metadata": {},
   "outputs": [
    {
     "name": "stdout",
     "output_type": "stream",
     "text": [
      "you got a number\n"
     ]
    },
    {
     "data": {
      "text/plain": [
       "\u001b[36mx\u001b[39m: \u001b[32mAny\u001b[39m = \u001b[32m-10\u001b[39m"
      ]
     },
     "execution_count": 7,
     "metadata": {},
     "output_type": "execute_result"
    }
   ],
   "source": [
    "val x = numberOrUnit(-10)\n",
    "x match {\n",
    "    case _: Int => println(\"you got a number\")\n",
    "    case _: Unit => println(\"you got a Unit\")\n",
    "}"
   ]
  },
  {
   "cell_type": "code",
   "execution_count": 8,
   "metadata": {},
   "outputs": [
    {
     "data": {
      "text/plain": [
       "defined \u001b[32mfunction\u001b[39m \u001b[36mreturnsNever\u001b[39m\n",
       "defined \u001b[32mfunction\u001b[39m \u001b[36mreturnsSometimes\u001b[39m"
      ]
     },
     "execution_count": 8,
     "metadata": {},
     "output_type": "execute_result"
    }
   ],
   "source": [
    "def returnsNever(x: Int): Nothing = {\n",
    "    throw new IllegalArgumentException(\"No\")\n",
    "}\n",
    "\n",
    "def returnsSometimes(x: Int): String = {\n",
    "    if (x < 0) {\n",
    "        throw new IllegalArgumentException(s\"Don't give me $x\")\n",
    "    } else {\n",
    "        x.toString\n",
    "    }\n",
    "}"
   ]
  },
  {
   "cell_type": "code",
   "execution_count": 9,
   "metadata": {},
   "outputs": [
    {
     "ename": "",
     "evalue": "",
     "output_type": "error",
     "traceback": [
      "\u001b[31mjava.lang.IllegalArgumentException: No\u001b[39m\n  ammonite.$sess.cmd7$Helper.returnsNever(\u001b[32mcmd7.sc\u001b[39m:\u001b[32m2\u001b[39m)\n  ammonite.$sess.cmd8$Helper.<init>(\u001b[32mcmd8.sc\u001b[39m:\u001b[32m1\u001b[39m)\n  ammonite.$sess.cmd8$.<clinit>(\u001b[32mcmd8.sc\u001b[39m:\u001b[32m7\u001b[39m)"
     ]
    }
   ],
   "source": [
    "returnsNever(1)"
   ]
  },
  {
   "cell_type": "code",
   "execution_count": 10,
   "metadata": {},
   "outputs": [
    {
     "data": {
      "text/plain": [
       "\u001b[36mres9\u001b[39m: \u001b[32mString\u001b[39m = \u001b[32m\"1\"\u001b[39m"
      ]
     },
     "execution_count": 10,
     "metadata": {},
     "output_type": "execute_result"
    }
   ],
   "source": [
    "returnsSometimes(1)"
   ]
  },
  {
   "cell_type": "markdown",
   "metadata": {},
   "source": [
    "### Immutable Data Structures\n",
    "- https://en.wikipedia.org/wiki/Persistent_data_structure\n",
    "- Purely Functional Data Structures by Chris Okasaki"
   ]
  },
  {
   "cell_type": "markdown",
   "metadata": {},
   "source": [
    "### Exercise: Persistent Binary Search Tree"
   ]
  },
  {
   "cell_type": "code",
   "execution_count": 15,
   "metadata": {},
   "outputs": [
    {
     "data": {
      "text/plain": [
       "defined \u001b[32mclass\u001b[39m \u001b[36mTree\u001b[39m\n",
       "defined \u001b[32mobject\u001b[39m \u001b[36mLeaf\u001b[39m\n",
       "defined \u001b[32mclass\u001b[39m \u001b[36mBSTree\u001b[39m"
      ]
     },
     "execution_count": 15,
     "metadata": {},
     "output_type": "execute_result"
    }
   ],
   "source": [
    "abstract class Tree[+A <% Ordered[A]] {\n",
    "    def value: A\n",
    "    def left: Tree[A]\n",
    "    def right: Tree[A]\n",
    "    def isLeaf: Boolean\n",
    "           \n",
    "    def insert[B >: A <% Ordered[B]](x: B): Tree[B] = {\n",
    "        // Your code\n",
    "        if (isLeaf) BSTree(x)\n",
    "        else if (x < value) BSTree(value, left.insert(x), right)\n",
    "        else if (x > value) BSTree(value, left, right.insert(x))\n",
    "        else this\n",
    "    }\n",
    "        \n",
    "    def contains[B >: A <% Ordered[B]](x: B): Boolean = {\n",
    "        if (isLeaf) false\n",
    "        else if (x < value) left.contains(x)\n",
    "        else if (x > value) right.contains(x)\n",
    "        else true\n",
    "    }\n",
    "}\n",
    "\n",
    "case object Leaf extends Tree[Nothing] {\n",
    "    def value: Nothing = throw new NotImplementedError()\n",
    "    def left: Tree[Nothing] = throw new NotImplementedError()\n",
    "    def right: Tree[Nothing] = throw new NotImplementedError()\n",
    "    def isLeaf = true\n",
    "}\n",
    "\n",
    "case class BSTree[A <% Ordered[A]](value: A, left: Tree[A] = Leaf, right: Tree[A] = Leaf) extends Tree[A] {\n",
    "    def isLeaf = false\n",
    "}\n"
   ]
  },
  {
   "cell_type": "code",
   "execution_count": 16,
   "metadata": {},
   "outputs": [
    {
     "data": {
      "text/plain": [
       "\u001b[36mint_tree\u001b[39m: \u001b[32mBSTree\u001b[39m[\u001b[32mInt\u001b[39m] = \u001b[33mBSTree\u001b[39m(\u001b[32m4\u001b[39m, \u001b[33mBSTree\u001b[39m(\u001b[32m2\u001b[39m, Leaf, Leaf), Leaf)"
      ]
     },
     "execution_count": 16,
     "metadata": {},
     "output_type": "execute_result"
    }
   ],
   "source": [
    "val int_tree = BSTree(4, BSTree(2))"
   ]
  },
  {
   "cell_type": "code",
   "execution_count": 17,
   "metadata": {},
   "outputs": [
    {
     "data": {
      "text/plain": [
       "\u001b[36mres16\u001b[39m: \u001b[32mTree\u001b[39m[\u001b[32mInt\u001b[39m] = \u001b[33mBSTree\u001b[39m(\u001b[32m4\u001b[39m, \u001b[33mBSTree\u001b[39m(\u001b[32m2\u001b[39m, Leaf, \u001b[33mBSTree\u001b[39m(\u001b[32m3\u001b[39m, Leaf, Leaf)), Leaf)"
      ]
     },
     "execution_count": 17,
     "metadata": {},
     "output_type": "execute_result"
    }
   ],
   "source": [
    "int_tree.insert(3)"
   ]
  },
  {
   "cell_type": "code",
   "execution_count": 18,
   "metadata": {},
   "outputs": [
    {
     "data": {
      "text/plain": [
       "\u001b[36mres17\u001b[39m: \u001b[32mTree\u001b[39m[\u001b[32mInt\u001b[39m] = \u001b[33mBSTree\u001b[39m(\u001b[32m4\u001b[39m, \u001b[33mBSTree\u001b[39m(\u001b[32m2\u001b[39m, \u001b[33mBSTree\u001b[39m(\u001b[32m1\u001b[39m, Leaf, Leaf), Leaf), Leaf)"
      ]
     },
     "execution_count": 18,
     "metadata": {},
     "output_type": "execute_result"
    }
   ],
   "source": [
    "int_tree.insert(1)"
   ]
  },
  {
   "cell_type": "code",
   "execution_count": 20,
   "metadata": {},
   "outputs": [
    {
     "data": {
      "text/plain": [
       "\u001b[36mres19\u001b[39m: \u001b[32mTree\u001b[39m[\u001b[32mInt\u001b[39m] = \u001b[33mBSTree\u001b[39m(\u001b[32m4\u001b[39m, \u001b[33mBSTree\u001b[39m(\u001b[32m2\u001b[39m, Leaf, Leaf), \u001b[33mBSTree\u001b[39m(\u001b[32m5\u001b[39m, Leaf, Leaf))"
      ]
     },
     "execution_count": 20,
     "metadata": {},
     "output_type": "execute_result"
    }
   ],
   "source": [
    "int_tree.insert(5)"
   ]
  },
  {
   "cell_type": "code",
   "execution_count": 22,
   "metadata": {},
   "outputs": [
    {
     "data": {
      "text/plain": [
       "\u001b[36mres21\u001b[39m: \u001b[32mBoolean\u001b[39m = true"
      ]
     },
     "execution_count": 22,
     "metadata": {},
     "output_type": "execute_result"
    }
   ],
   "source": [
    "int_tree.contains(2)"
   ]
  },
  {
   "cell_type": "code",
   "execution_count": 23,
   "metadata": {},
   "outputs": [
    {
     "data": {
      "text/plain": [
       "\u001b[36mres22\u001b[39m: \u001b[32mBoolean\u001b[39m = false"
      ]
     },
     "execution_count": 23,
     "metadata": {},
     "output_type": "execute_result"
    }
   ],
   "source": [
    "int_tree.contains(5)"
   ]
  },
  {
   "cell_type": "code",
   "execution_count": 24,
   "metadata": {},
   "outputs": [
    {
     "data": {
      "text/plain": [
       "\u001b[36mstr_tree\u001b[39m: \u001b[32mBSTree\u001b[39m[\u001b[32mString\u001b[39m] = \u001b[33mBSTree\u001b[39m(\u001b[32m\"aa\"\u001b[39m, Leaf, Leaf)"
      ]
     },
     "execution_count": 24,
     "metadata": {},
     "output_type": "execute_result"
    }
   ],
   "source": [
    "val str_tree = BSTree(\"aa\")"
   ]
  },
  {
   "cell_type": "code",
   "execution_count": 25,
   "metadata": {},
   "outputs": [
    {
     "data": {
      "text/plain": [
       "\u001b[36mnew_tree\u001b[39m: \u001b[32mTree\u001b[39m[\u001b[32mString\u001b[39m] = \u001b[33mBSTree\u001b[39m(\n",
       "  \u001b[32m\"aa\"\u001b[39m,\n",
       "  \u001b[33mBSTree\u001b[39m(\u001b[32m\"a\"\u001b[39m, Leaf, Leaf),\n",
       "  \u001b[33mBSTree\u001b[39m(\u001b[32m\"bb\"\u001b[39m, Leaf, \u001b[33mBSTree\u001b[39m(\u001b[32m\"c\"\u001b[39m, Leaf, Leaf))\n",
       ")"
      ]
     },
     "execution_count": 25,
     "metadata": {},
     "output_type": "execute_result"
    }
   ],
   "source": [
    "val new_tree = str_tree.insert(\"bb\").insert(\"c\").insert(\"a\")"
   ]
  },
  {
   "cell_type": "code",
   "execution_count": 26,
   "metadata": {},
   "outputs": [
    {
     "data": {
      "text/plain": [
       "\u001b[36mres25\u001b[39m: \u001b[32mBoolean\u001b[39m = true"
      ]
     },
     "execution_count": 26,
     "metadata": {},
     "output_type": "execute_result"
    }
   ],
   "source": [
    "new_tree.contains(\"c\")"
   ]
  },
  {
   "cell_type": "code",
   "execution_count": 27,
   "metadata": {},
   "outputs": [
    {
     "data": {
      "text/plain": [
       "\u001b[36mres26\u001b[39m: \u001b[32mBoolean\u001b[39m = false"
      ]
     },
     "execution_count": 27,
     "metadata": {},
     "output_type": "execute_result"
    }
   ],
   "source": [
    "str_tree.contains(\"c\")"
   ]
  }
 ],
 "metadata": {
  "kernelspec": {
   "display_name": "Scala",
   "language": "scala",
   "name": "scala"
  },
  "language_info": {
   "codemirror_mode": "text/x-scala",
   "file_extension": ".sc",
   "mimetype": "text/x-scala",
   "name": "scala",
   "nbconvert_exporter": "script",
   "version": "2.13.3"
  }
 },
 "nbformat": 4,
 "nbformat_minor": 2
}
