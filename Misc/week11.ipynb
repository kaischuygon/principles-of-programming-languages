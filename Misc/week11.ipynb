{
 "cells": [
  {
   "cell_type": "markdown",
   "metadata": {},
   "source": [
    "## Continuation Passing Style and Scala Futures"
   ]
  },
  {
   "cell_type": "markdown",
   "metadata": {},
   "source": [
    "In Scala, Futures are used to wrap asynchronous computation. When you need a result, you can wait for the Future to have a result using `Await.result(future)`. The almond scala kernel updates the Future automatically. Futures work in a similar way to CPS because when the result is available, your code is called with that result as an argument.\n",
    "\n",
    "Here we create a function that takes a continuation `k` and uses a library to send a GET request to a url. We wrap the call in a Future and map results to their response text and then call `k` on each result."
   ]
  },
  {
   "cell_type": "code",
   "execution_count": 0,
   "metadata": {
    "scrolled": true
   },
   "outputs": [
    {
     "name": "stderr",
     "output_type": "stream",
     "text": [
      "Downloading https://repo1.maven.org/maven2/com/lihaoyi/requests_2.13/0.1.4/requests_2.13-0.1.4.pom\n",
      "Downloaded https://repo1.maven.org/maven2/com/lihaoyi/requests_2.13/0.1.4/requests_2.13-0.1.4.pom\n",
      "Downloading https://repo1.maven.org/maven2/com/lihaoyi/requests_2.13/0.1.4/requests_2.13-0.1.4.pom.sha1\n",
      "Downloaded https://repo1.maven.org/maven2/com/lihaoyi/requests_2.13/0.1.4/requests_2.13-0.1.4.pom.sha1\n",
      "Failed to resolve ivy dependencies:Error downloading com.lihaoyi:requests_2.13:0.1.4\n",
      "  not found: /Users/kschuygon/.ivy2/local/com.lihaoyi/requests_2.13/0.1.4/ivys/ivy.xml\n",
      "  not found: https://repo1.maven.org/maven2/com/lihaoyi/requests_2.13/0.1.4/requests_2.13-0.1.4.pom"
     ]
    },
    {
     "ename": "",
     "evalue": "",
     "output_type": "error",
     "traceback": [
      "Failed to resolve ivy dependencies:Error downloading com.lihaoyi:requests_2.13:0.1.4\n  not found: /Users/kschuygon/.ivy2/local/com.lihaoyi/requests_2.13/0.1.4/ivys/ivy.xml\n  not found: https://repo1.maven.org/maven2/com/lihaoyi/requests_2.13/0.1.4/requests_2.13-0.1.4.pom"
     ]
    }
   ],
   "source": [
    "import $ivy.`com.lihaoyi::requests:0.1.4`\n",
    "import scala.concurrent.{ Future, Await }\n",
    "import scala.concurrent.ExecutionContext.Implicits.global\n",
    "\n",
    "def http_get(url: String, k: String => String): Future[String] =\n",
    "    Future(requests.get(url)).map(_.text).map(k)"
   ]
  },
  {
   "cell_type": "code",
   "execution_count": 0,
   "metadata": {},
   "outputs": [
    {
     "name": "stderr",
     "output_type": "stream",
     "text": [
      "cmd0.sc:3: not found: value http_get\n",
      "val res = http_get(shakira_url, _ + \" lie\")\n",
      "          ^Compilation Failed"
     ]
    },
    {
     "ename": "",
     "evalue": "",
     "output_type": "error",
     "traceback": [
      "Compilation Failed"
     ]
    }
   ],
   "source": [
    "val shakira_url = \"http://www.mocky.io/v2/5c6fa3fc3400004e5f8931a6\"\n",
    "\n",
    "val res = http_get(shakira_url, _ + \" lie\")"
   ]
  },
  {
   "cell_type": "markdown",
   "metadata": {},
   "source": [
    "## Parametric Polymorphism and Generic Types"
   ]
  },
  {
   "cell_type": "markdown",
   "metadata": {},
   "source": [
    "Parametric Polymorphism (https://en.wikipedia.org/wiki/Parametric_polymorphism) is a language feature that allows us to write functions and classes with arguments and member variables that have types that are not yet defined. This means that such functions can be used on many different types (they are \"generic\" or \"polymorphic\" functions or classes). The \"parametric\" part means that we need to parameterize the unspecified types using symbols meaning \"these are the same type.\""
   ]
  },
  {
   "cell_type": "code",
   "execution_count": 1,
   "metadata": {},
   "outputs": [
    {
     "data": {
      "text/plain": [
       "defined \u001b[32mfunction\u001b[39m \u001b[36mid\u001b[39m"
      ]
     },
     "execution_count": 1,
     "metadata": {},
     "output_type": "execute_result"
    }
   ],
   "source": [
    "// id takes an argument of type T and returns that argument\n",
    "def id[T](x: T): T = x\n"
   ]
  },
  {
   "cell_type": "code",
   "execution_count": 2,
   "metadata": {},
   "outputs": [
    {
     "data": {
      "text/plain": [
       "\u001b[36mexample\u001b[39m: \u001b[32mList\u001b[39m[\u001b[32mInt\u001b[39m] = \u001b[33mList\u001b[39m(\u001b[32m2\u001b[39m)"
      ]
     },
     "execution_count": 2,
     "metadata": {},
     "output_type": "execute_result"
    }
   ],
   "source": [
    "val example = id(List(2))"
   ]
  },
  {
   "cell_type": "code",
   "execution_count": 3,
   "metadata": {},
   "outputs": [
    {
     "data": {
      "text/plain": [
       "defined \u001b[32mclass\u001b[39m \u001b[36mMyClass\u001b[39m"
      ]
     },
     "execution_count": 3,
     "metadata": {},
     "output_type": "execute_result"
    }
   ],
   "source": [
    "case class MyClass[T](t: T) {\n",
    "    def get: T = t\n",
    "}"
   ]
  },
  {
   "cell_type": "code",
   "execution_count": 4,
   "metadata": {},
   "outputs": [
    {
     "data": {
      "text/plain": [
       "\u001b[36mx\u001b[39m: \u001b[32mInt\u001b[39m = \u001b[32m2\u001b[39m\n",
       "\u001b[36my\u001b[39m: \u001b[32mList\u001b[39m[\u001b[32mInt\u001b[39m] = \u001b[33mList\u001b[39m(\u001b[32m2\u001b[39m)\n",
       "\u001b[36mz\u001b[39m: \u001b[32mString\u001b[39m = \u001b[32m\"2\"\u001b[39m"
      ]
     },
     "execution_count": 4,
     "metadata": {},
     "output_type": "execute_result"
    }
   ],
   "source": [
    "val x: Int = MyClass(2).get\n",
    "val y: List[Int] = MyClass(List(2)).get\n",
    "val z = MyClass(\"2\").get"
   ]
  },
  {
   "cell_type": "markdown",
   "metadata": {},
   "source": [
    "Taking an example from https://twitter.github.io/scala_school/type-basics.html#parametricpoly we see that Scala has \"rank-1\" polymorphism, meaning that we can't define higher order functions that call polymorphic functions. For more see https://papl.cs.brown.edu/2014/para-poly.html\n",
    "      "
   ]
  },
  {
   "cell_type": "code",
   "execution_count": 5,
   "metadata": {},
   "outputs": [
    {
     "name": "stderr",
     "output_type": "stream",
     "text": [
      "cmd5.sc:1: type mismatch;\n",
      " found   : Int(2)\n",
      " required: A\n",
      "def makeListFrom[A](f: A => List[A]): List[A] = f(2)\n",
      "                                                  ^Compilation Failed"
     ]
    },
    {
     "ename": "",
     "evalue": "",
     "output_type": "error",
     "traceback": [
      "Compilation Failed"
     ]
    }
   ],
   "source": [
    "def makeListFrom[A](f: A => List[A]): List[A] = f(2)"
   ]
  },
  {
   "cell_type": "markdown",
   "metadata": {},
   "source": [
    "## Exercise: Write the type signature of the following functions"
   ]
  },
  {
   "cell_type": "code",
   "execution_count": 7,
   "metadata": {},
   "outputs": [
    {
     "name": "stderr",
     "output_type": "stream",
     "text": [
      "cmd7.sc:3: not found: value applyTwice_\n",
      "val res7_1 = applyTwice_\n",
      "             ^Compilation Failed"
     ]
    },
    {
     "ename": "",
     "evalue": "",
     "output_type": "error",
     "traceback": [
      "Compilation Failed"
     ]
    }
   ],
   "source": [
    "def applyTwice(f: Int => Int, x: Int) = f(f(x))\n",
    "// applyTwice: (Int => Int, Int) => Int\n",
    "applyTwice _"
   ]
  },
  {
   "cell_type": "code",
   "execution_count": 7,
   "metadata": {},
   "outputs": [
    {
     "data": {
      "text/plain": [
       "defined \u001b[32mfunction\u001b[39m \u001b[36mapplyTwiceCurried\u001b[39m\n",
       "\u001b[36mres6_1\u001b[39m: \u001b[32mInt\u001b[39m => \u001b[32mInt\u001b[39m => \u001b[32mInt\u001b[39m => \u001b[32mInt\u001b[39m = ammonite.$sess.cmd6$Helper$$Lambda$2444/0x0000000801ceb840@6a6b5e61"
      ]
     },
     "execution_count": 7,
     "metadata": {},
     "output_type": "execute_result"
    }
   ],
   "source": [
    "def applyTwiceCurried(f: Int => Int)(x : Int) = f(f(x))\n",
    "// applyTwiceCurried(Int => Int) => Int => Int\n",
    "applyTwiceCurried _"
   ]
  },
  {
   "cell_type": "code",
   "execution_count": 8,
   "metadata": {},
   "outputs": [
    {
     "data": {
      "text/plain": [
       "\u001b[36mres7\u001b[39m: \u001b[32mInt\u001b[39m => \u001b[32mString\u001b[39m => \u001b[32mList\u001b[39m[\u001b[32mString\u001b[39m] = ammonite.$sess.cmd7$Helper$$Lambda$2595/0x0000000801d57840@7d17f1d6"
      ]
     },
     "execution_count": 8,
     "metadata": {},
     "output_type": "execute_result"
    }
   ],
   "source": [
    "// List[A].map\n",
    "// List[A] => (A => B) => List[B]\n",
    "List(1) map (_: Int => String)"
   ]
  },
  {
   "cell_type": "code",
   "execution_count": 9,
   "metadata": {},
   "outputs": [
    {
     "data": {
      "text/plain": [
       "\u001b[36mres8\u001b[39m: \u001b[32mInt\u001b[39m => \u001b[32mBoolean\u001b[39m => \u001b[32mList\u001b[39m[\u001b[32mInt\u001b[39m] = ammonite.$sess.cmd8$Helper$$Lambda$2606/0x0000000801d5d840@53db11d2"
      ]
     },
     "execution_count": 9,
     "metadata": {},
     "output_type": "execute_result"
    }
   ],
   "source": [
    "// List[A].filter\n",
    "// List[A] => (A => Boolean) => List[A]\n",
    "List(1) filter _"
   ]
  },
  {
   "cell_type": "code",
   "execution_count": 12,
   "metadata": {},
   "outputs": [
    {
     "data": {
      "text/plain": [
       "\u001b[36mres11\u001b[39m: \u001b[32mList\u001b[39m[\u001b[32mString\u001b[39m] => \u001b[32mList\u001b[39m[(\u001b[32mInt\u001b[39m, \u001b[32mList\u001b[39m[\u001b[32mString\u001b[39m])] = ammonite.$sess.cmd11$Helper$$Lambda$2630/0x0000000801d6c040@210e9082"
      ]
     },
     "execution_count": 12,
     "metadata": {},
     "output_type": "execute_result"
    }
   ],
   "source": [
    "// List[A].zip \n",
    "// List[A] => List[B] => List[(A, B)]\n",
    "List(1) zip List(_: List[String])"
   ]
  },
  {
   "cell_type": "markdown",
   "metadata": {},
   "source": [
    "## Exercise: Write a function that corresponds to the following type signatures"
   ]
  },
  {
   "cell_type": "code",
   "execution_count": 14,
   "metadata": {},
   "outputs": [
    {
     "data": {
      "text/plain": [
       "defined \u001b[32mfunction\u001b[39m \u001b[36mfoo\u001b[39m\n",
       "\u001b[36mres13_1\u001b[39m: \u001b[32mInt\u001b[39m => \u001b[32mInt\u001b[39m => \u001b[32mInt\u001b[39m => \u001b[32mInt\u001b[39m => \u001b[32mInt\u001b[39m = ammonite.$sess.cmd13$Helper$$Lambda$2642/0x0000000801d76040@32a8218b"
      ]
     },
     "execution_count": 14,
     "metadata": {},
     "output_type": "execute_result"
    }
   ],
   "source": [
    "// (Int => Int) => (Int => Int) => Int\n",
    "def foo(f: Int => Int)(g: Int => Int): Int = f(g(2))\n",
    "foo _"
   ]
  },
  {
   "cell_type": "code",
   "execution_count": 16,
   "metadata": {},
   "outputs": [
    {
     "name": "stderr",
     "output_type": "stream",
     "text": [
      "cmd16.sc:1: not found: value f\n",
      "def func(x: Int, y: Int, z: Int) = f(x: Int => Int)\n",
      "                                   ^cmd16.sc:1: type mismatch;\n",
      " found   : Int\n",
      " required: Int => Int\n",
      "def func(x: Int, y: Int, z: Int) = f(x: Int => Int)\n",
      "                                     ^Compilation Failed"
     ]
    },
    {
     "ename": "",
     "evalue": "",
     "output_type": "error",
     "traceback": [
      "Compilation Failed"
     ]
    }
   ],
   "source": [
    "// (Int, Int, Int) => (Int => Int)\n",
    "def func(x: Int, y: Int, z: Int)\n",
    "\n",
    "func _"
   ]
  }
 ],
 "metadata": {
  "celltoolbar": "Create Assignment",
  "kernelspec": {
   "display_name": "Scala",
   "language": "scala",
   "name": "scala"
  },
  "language_info": {
   "codemirror_mode": "text/x-scala",
   "file_extension": ".sc",
   "mimetype": "text/x-scala",
   "name": "scala",
   "nbconvert_exporter": "script",
   "version": "2.13.3"
  }
 },
 "nbformat": 4,
 "nbformat_minor": 2
}
