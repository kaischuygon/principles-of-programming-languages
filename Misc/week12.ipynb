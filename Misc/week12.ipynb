{
 "cells": [
  {
   "cell_type": "markdown",
   "metadata": {},
   "source": [
    "## Object-oriented Programming in Scala\n",
    "1. Encapsulation \n",
    "    - put data and methods that require that data together in a class\n",
    "    - use access modifiers for fine-grained control over which methods can access which data\n",
    "    - allows for modular code (use class methods, not their internal structure or data)\n",
    "2. Inheritance\n",
    "    - re-use code in many classes\n",
    "    - when trying to inherit from multiple classes (multiple inheritance), can run into problems\n",
    "3. Polymorphism\n",
    "    - overriding - runtime polymorphism - same function signature, but different class (child class)\n",
    "        - dynamic dispatch - picking a function at runtime based on the type or number of arguments passed\n",
    "    - overloading - compile time polymorphism - different function signature"
   ]
  },
  {
   "cell_type": "markdown",
   "metadata": {},
   "source": [
    "## Encapsulation: Objects, Classes, and Case Classes\n",
    "\n",
    "Objects are singletons in Scala - they don't take parameters and there is only one instance\n",
    "\n",
    "Classes take parameters and can be instantiated multiple times\n",
    "\n",
    "Case classes automatically create some of the \"boilerplate\" code for you\n",
    "(see https://docs.scala-lang.org/overviews/scala-book/case-classes.html)\n"
   ]
  },
  {
   "cell_type": "markdown",
   "metadata": {},
   "source": [
    "## Exercise: Implement the addition operator on Fractions"
   ]
  },
  {
   "cell_type": "code",
   "execution_count": 1,
   "metadata": {},
   "outputs": [
    {
     "data": {
      "text/plain": [
       "defined \u001b[32mfunction\u001b[39m \u001b[36mgcd\u001b[39m\n",
       "defined \u001b[32mclass\u001b[39m \u001b[36mFraction\u001b[39m"
      ]
     },
     "execution_count": 1,
     "metadata": {},
     "output_type": "execute_result"
    }
   ],
   "source": [
    "// https://en.wikipedia.org/wiki/Euclidean_algorithm\n",
    "def gcd(a: Long, b: Long): Long = b match {\n",
    "    case 0 => a\n",
    "    case n => gcd(b, a % b)\n",
    "}\n",
    "\n",
    "case class Fraction(numer: Long, denom: Long) {\n",
    "    def *(other: Fraction) = {\n",
    "        val newNumer = numer * other.numer\n",
    "        val newDenom = denom * other.denom\n",
    "        val greatestDiv = gcd(newNumer, newDenom)\n",
    "        Fraction(newNumer / greatestDiv, newDenom / greatestDiv)\n",
    "    }\n",
    "    \n",
    "    def +(other: Fraction) = {\n",
    "        val newNumer = numer * other.denom + denom * other.numer\n",
    "        val newDenom = denom * other.denom \n",
    "        val greatestDiv = gcd(newNumer, newDenom)\n",
    "        Fraction(newNumer / greatestDiv, newDenom / greatestDiv)\n",
    "    }\n",
    "}"
   ]
  },
  {
   "cell_type": "code",
   "execution_count": 2,
   "metadata": {},
   "outputs": [
    {
     "data": {
      "text/plain": [
       "\u001b[36mres1\u001b[39m: \u001b[32mFraction\u001b[39m = \u001b[33mFraction\u001b[39m(\u001b[32m5L\u001b[39m, \u001b[32m2L\u001b[39m)"
      ]
     },
     "execution_count": 2,
     "metadata": {},
     "output_type": "execute_result"
    }
   ],
   "source": [
    "Fraction(10, 2) * Fraction(2, 4)"
   ]
  },
  {
   "cell_type": "code",
   "execution_count": 3,
   "metadata": {},
   "outputs": [
    {
     "data": {
      "text/plain": [
       "\u001b[36mres2\u001b[39m: \u001b[32mFraction\u001b[39m = \u001b[33mFraction\u001b[39m(\u001b[32m5L\u001b[39m, \u001b[32m4L\u001b[39m)"
      ]
     },
     "execution_count": 3,
     "metadata": {},
     "output_type": "execute_result"
    }
   ],
   "source": [
    "Fraction(1, 2) + Fraction(3, 4)"
   ]
  },
  {
   "cell_type": "markdown",
   "metadata": {},
   "source": [
    "## Exercise: move the GCD computation and other validation to the constructor"
   ]
  },
  {
   "cell_type": "code",
   "execution_count": 9,
   "metadata": {},
   "outputs": [
    {
     "data": {
      "text/plain": [
       "defined \u001b[32mclass\u001b[39m \u001b[36mFraction\u001b[39m\n",
       "defined \u001b[32mobject\u001b[39m \u001b[36mFraction\u001b[39m"
      ]
     },
     "execution_count": 9,
     "metadata": {},
     "output_type": "execute_result"
    }
   ],
   "source": [
    "// case class would automatically create apply and toString methods\n",
    "class Fraction(val numer: Long, val denom: Long) {\n",
    "    def *(other: Fraction) = {\n",
    "        val newNumer = numer * other.numer\n",
    "        val newDenom = denom * other.denom\n",
    "        Fraction(newNumer, newDenom)\n",
    "    }\n",
    "    \n",
    "    def +(other: Fraction) = {\n",
    "        // Your Code\n",
    "        val newNumer = numer * other.denom + denom * other.numer\n",
    "        val newDenom = denom * other.denom \n",
    "        Fraction(newNumer, newDenom)\n",
    "    }\n",
    "    \n",
    "    override def toString() = s\"$numer / $denom\"\n",
    "}\n",
    "\n",
    "// define a companion object with the apply method (avoid using the \"new\" keyword)\n",
    "// also allows us to return the reduced Fraction without using \"var\"\n",
    "// https://docs.scala-lang.org/overviews/scala-book/companion-objects.html\n",
    "object Fraction {\n",
    "    def apply(numer: Long, denom: Long): Fraction = {\n",
    "        val greatestDiv = gcd(numer, denom)\n",
    "        new Fraction(numer / greatestDiv, denom / greatestDiv)\n",
    "    }\n",
    "}"
   ]
  },
  {
   "cell_type": "code",
   "execution_count": 10,
   "metadata": {},
   "outputs": [
    {
     "data": {
      "text/plain": [
       "\u001b[36mres9\u001b[39m: \u001b[32mFraction\u001b[39m = 11 / 2"
      ]
     },
     "execution_count": 10,
     "metadata": {},
     "output_type": "execute_result"
    }
   ],
   "source": [
    "Fraction(10, 2) + Fraction(2, 4)"
   ]
  },
  {
   "cell_type": "markdown",
   "metadata": {},
   "source": [
    "## Inheritance: Traits and Abstract Classes\n",
    "\n",
    "1. Traits\n",
    "    - Traits as interfaces (https://docs.scala-lang.org/overviews/scala-book/traits-interfaces.html)\n",
    "    - Traits as mixins (https://docs.scala-lang.org/overviews/scala-book/traits-abstract-mixins.html)\n",
    "    \n",
    "    \n",
    "2. Abstract Classes (https://docs.scala-lang.org/overviews/scala-book/abstract-classes.html)\n",
    "    - Can only inherit from one Abstract Class\n",
    "\n",
    "Note: even though Traits allow you to define methods, use abstract classes to do this if you need to use them in Java.\n",
    "\n",
    "\n",
    "\n",
    "\n"
   ]
  },
  {
   "cell_type": "markdown",
   "metadata": {},
   "source": [
    "## Multiple Inheritance and the Diamond Problem\n",
    "\n",
    "\n",
    "When inheriting from multiple traits that implement methods, a question can arise as to which method to use if it is not defined on the child class and is defined on more than one parent class. See below to read more and find out how various programming languages solve the problem.\n",
    "\n",
    "https://en.wikipedia.org/wiki/Multiple_inheritance#The_diamond_problem"
   ]
  },
  {
   "cell_type": "code",
   "execution_count": 11,
   "metadata": {},
   "outputs": [
    {
     "data": {
      "text/plain": [
       "defined \u001b[32mtrait\u001b[39m \u001b[36mAnimal\u001b[39m\n",
       "defined \u001b[32mtrait\u001b[39m \u001b[36mBird\u001b[39m\n",
       "defined \u001b[32mtrait\u001b[39m \u001b[36mCat\u001b[39m\n",
       "defined \u001b[32mobject\u001b[39m \u001b[36mBirdCat\u001b[39m\n",
       "defined \u001b[32mobject\u001b[39m \u001b[36mCatBird\u001b[39m\n",
       "\u001b[36mres10_5\u001b[39m: \u001b[32mString\u001b[39m = \u001b[32m\"meow\"\u001b[39m\n",
       "\u001b[36mres10_6\u001b[39m: \u001b[32mString\u001b[39m = \u001b[32m\"cheep\"\u001b[39m"
      ]
     },
     "execution_count": 11,
     "metadata": {},
     "output_type": "execute_result"
    }
   ],
   "source": [
    "trait Animal {\n",
    "   def talk: String\n",
    "}\n",
    "\n",
    "trait Bird extends Animal {\n",
    "   override def talk = \"cheep\"\n",
    "}\n",
    "\n",
    "trait Cat extends Animal {\n",
    "   override def talk = \"meow\"\n",
    "}\n",
    "\n",
    "// Scala does a depth-first search for \"talk\" starting from the right-most mixin\n",
    "case object BirdCat extends Bird with Cat\n",
    "case object CatBird extends Cat with Bird\n",
    "\n",
    "BirdCat.talk\n",
    "CatBird.talk"
   ]
  },
  {
   "cell_type": "markdown",
   "metadata": {},
   "source": [
    "## Polymorphism: Overriding and Overloading\n",
    "\n"
   ]
  },
  {
   "cell_type": "code",
   "execution_count": 12,
   "metadata": {},
   "outputs": [
    {
     "data": {
      "text/plain": [
       "defined \u001b[32mtrait\u001b[39m \u001b[36mColor\u001b[39m\n",
       "defined \u001b[32mclass\u001b[39m \u001b[36mRed\u001b[39m\n",
       "defined \u001b[32mclass\u001b[39m \u001b[36mBlue\u001b[39m\n",
       "defined \u001b[32mfunction\u001b[39m \u001b[36mlook\u001b[39m\n",
       "\u001b[36mres11_4\u001b[39m: \u001b[32mString\u001b[39m = \u001b[32m\"Red\"\u001b[39m\n",
       "\u001b[36mres11_5\u001b[39m: \u001b[32mString\u001b[39m = \u001b[32m\"Blue\"\u001b[39m"
      ]
     },
     "execution_count": 12,
     "metadata": {},
     "output_type": "execute_result"
    }
   ],
   "source": [
    "// Overriding, dynamic dispatch at runtime\n",
    "\n",
    "sealed trait Color {\n",
    "    def show(): String\n",
    "}\n",
    "\n",
    "case class Red() extends Color {\n",
    "  def show() =  \"Red\"\n",
    "}\n",
    "\n",
    "case class Blue() extends Color {\n",
    "  def show() = \"Blue\"\n",
    "}\n",
    "\n",
    "def look(instance: Color) = {\n",
    "    instance.show()\n",
    "}\n",
    "\n",
    "look(Red())\n",
    "look(Blue())"
   ]
  },
  {
   "cell_type": "code",
   "execution_count": 13,
   "metadata": {},
   "outputs": [
    {
     "data": {
      "text/plain": [
       "defined \u001b[32mfunction\u001b[39m \u001b[36mlook\u001b[39m\n",
       "defined \u001b[32mfunction\u001b[39m \u001b[36mlook\u001b[39m\n",
       "\u001b[36mres12_2\u001b[39m: \u001b[32mString\u001b[39m = \u001b[32m\"Red\"\u001b[39m\n",
       "\u001b[36mres12_3\u001b[39m: \u001b[32mString\u001b[39m = \u001b[32m\"Blue\"\u001b[39m"
      ]
     },
     "execution_count": 13,
     "metadata": {},
     "output_type": "execute_result"
    }
   ],
   "source": [
    "// Overloading: compile time\n",
    "\n",
    "def look(instance: Red) = {\n",
    "    \"Red\"\n",
    "}\n",
    "\n",
    "def look(instance: Blue) = {\n",
    "    \"Blue\"\n",
    "}\n",
    "\n",
    "look(Red())\n",
    "look(Blue())"
   ]
  },
  {
   "cell_type": "code",
   "execution_count": 14,
   "metadata": {},
   "outputs": [
    {
     "data": {
      "text/plain": [
       "defined \u001b[32mfunction\u001b[39m \u001b[36mlook\u001b[39m\n",
       "\u001b[36mres13_1\u001b[39m: \u001b[32mString\u001b[39m = \u001b[32m\"Red\"\u001b[39m\n",
       "\u001b[36mres13_2\u001b[39m: \u001b[32mString\u001b[39m = \u001b[32m\"Blue\"\u001b[39m"
      ]
     },
     "execution_count": 14,
     "metadata": {},
     "output_type": "execute_result"
    }
   ],
   "source": [
    "// Alternative: Pattern Matching\n",
    "\n",
    "def look(instance: Color) = instance match {\n",
    "    case _: Red => \"Red\"\n",
    "    case _: Blue => \"Blue\"\n",
    "}\n",
    "\n",
    "look(Red())\n",
    "look(Blue())"
   ]
  },
  {
   "cell_type": "markdown",
   "metadata": {},
   "source": [
    "## Exercise: write a new overloaded function for `addInts` that returns the sum of a Fraction's numerator and denominator"
   ]
  },
  {
   "cell_type": "code",
   "execution_count": null,
   "metadata": {},
   "outputs": [],
   "source": [
    "def addInts(a: Int, b: Int, c: Int) = a + b + c\n",
    "def addInts(a: Int, b: Int) = a + b "
   ]
  },
  {
   "cell_type": "code",
   "execution_count": null,
   "metadata": {},
   "outputs": [],
   "source": [
    "addInts(1)"
   ]
  },
  {
   "cell_type": "code",
   "execution_count": null,
   "metadata": {},
   "outputs": [],
   "source": [
    "addInts(2, 3)"
   ]
  },
  {
   "cell_type": "code",
   "execution_count": 15,
   "metadata": {},
   "outputs": [
    {
     "data": {
      "text/plain": [
       "defined \u001b[32mfunction\u001b[39m \u001b[36maddInts\u001b[39m"
      ]
     },
     "execution_count": 15,
     "metadata": {},
     "output_type": "execute_result"
    }
   ],
   "source": [
    "def addInts(f: Fraction) = f.numer + f.denom"
   ]
  },
  {
   "cell_type": "code",
   "execution_count": 16,
   "metadata": {},
   "outputs": [
    {
     "data": {
      "text/plain": [
       "\u001b[36mres15\u001b[39m: \u001b[32mLong\u001b[39m = \u001b[32m3L\u001b[39m"
      ]
     },
     "execution_count": 16,
     "metadata": {},
     "output_type": "execute_result"
    }
   ],
   "source": [
    "addInts(Fraction(4, 8))"
   ]
  }
 ],
 "metadata": {
  "celltoolbar": "Create Assignment",
  "kernelspec": {
   "display_name": "Scala",
   "language": "scala",
   "name": "scala"
  },
  "language_info": {
   "codemirror_mode": "text/x-scala",
   "file_extension": ".sc",
   "mimetype": "text/x-scala",
   "name": "scala",
   "nbconvert_exporter": "script",
   "version": "2.13.3"
  }
 },
 "nbformat": 4,
 "nbformat_minor": 2
}
